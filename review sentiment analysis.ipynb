{
 "cells": [
  {
   "cell_type": "code",
   "execution_count": 18,
   "metadata": {
    "scrolled": true
   },
   "outputs": [
    {
     "name": "stdout",
     "output_type": "stream",
     "text": [
      "[' happy', ' attracted', ' attached', ' sad', ' lost', ' sad', ' independent', ' happy', ' sad', ' happy', ' happy', ' sad', ' ecstatic', ' reasonable', ' faulty', ' reasonable', ' faulty', ' sad', ' persistent', ' worthwhile', ' fine', ' happy', ' ecstatic', ' discomfort', ' adorable', ' persistent', ' pleasant', ' discomfort', ' ecstatic', ' adorable', ' ecstatic', ' happy', ' fine', ' ecstatic', ' ecstatic', ' ecstatic', ' reasonable', ' reasonable', ' unsafe', ' satisfied', ' happy', ' delicate']\n",
      "Counter({' happy': 7, ' ecstatic': 7, ' sad': 5, ' reasonable': 4, ' faulty': 2, ' persistent': 2, ' fine': 2, ' discomfort': 2, ' adorable': 2, ' attracted': 1, ' attached': 1, ' lost': 1, ' independent': 1, ' worthwhile': 1, ' pleasant': 1, ' unsafe': 1, ' satisfied': 1, ' delicate': 1})\n"
     ]
    },
    {
     "data": {
      "image/png": "[encoded data removed]",
      "text/plain": [
       "<Figure size 432x288 with 1 Axes>"
      ]
     },
     "metadata": {
      "needs_background": "light"
     },
     "output_type": "display_data"
    },
    {
     "name": "stdout",
     "output_type": "stream",
     "text": [
      "polarity\n",
      "0.20371112028626487\n",
      "overall positive\n"
     ]
    }
   ],
   "source": [
    "import string\n",
    "from collections import Counter\n",
    "\n",
    "import matplotlib.pyplot as plt\n",
    "\n",
    "from nltk.corpus import stopwords\n",
    "from nltk.sentiment.vader import SentimentIntensityAnalyzer\n",
    "from nltk.stem import WordNetLemmatizer\n",
    "from nltk.tokenize import word_tokenize\n",
    "\n",
    "text = open('amazon reviews unlabelled dataset.txt', encoding='utf-8').read()\n",
    "lower_case = text.lower()\n",
    "cleaned_text = lower_case.translate(str.maketrans('', '', string.punctuation))\n",
    "\n",
    "# Using word_tokenize because it's faster than split()\n",
    "tokenized_words = word_tokenize(cleaned_text, \"english\")\n",
    "\n",
    "# Removing Stop Words\n",
    "final_words = []\n",
    "for word in tokenized_words:\n",
    "    if word not in stopwords.words('english'):\n",
    "        final_words.append(word)\n",
    "\n",
    "# Lemmatization - From plural to single + Base form of a word (example better-> good)\n",
    "lemma_words = []\n",
    "for word in final_words:\n",
    "    word = WordNetLemmatizer().lemmatize(word)\n",
    "    lemma_words.append(word)\n",
    "\n",
    "emotion_list = []\n",
    "with open('labelled dataset.txt', 'r') as file:\n",
    "    for line in file:\n",
    "        clear_line = line.replace(\"\\n\", '').replace(\",\", '').replace(\"'\", '').strip()\n",
    "        word, emotion = clear_line.split(':')\n",
    "\n",
    "        if word in lemma_words:\n",
    "            emotion_list.append(emotion)\n",
    "\n",
    "print(emotion_list)\n",
    "w = Counter(emotion_list)\n",
    "print(w)\n",
    "\n",
    "def sentiment_analyse(sentiment_text):\n",
    "    sentiment_analyse(cleaned_text)\n",
    "\n",
    "fig, ax1 = plt.subplots()\n",
    "ax1.bar(w.keys(), w.values())\n",
    "fig.autofmt_xdate()\n",
    "plt.savefig('graph.png')\n",
    "plt.show()\n",
    "\n",
    "from textblob import TextBlob\n",
    "testimonial = TextBlob(\"UNLABELLED DATASET-AMAZON PRODUCT- boAt Rockerz 400 Bluetooth On-Ear Headphone with Mic(Black/Blue).It's just awesome. I got the product at the correct time. Thank you Amazon. The sound quality is excellent. The bass is great. The earcups are very good. It gives a great experience of music. I love this one and recommend to all. In this price it just great. Overall wonderful product. Light weight. It is similar to carrying a few number of pages notebook.Sound Quality at the best level especially Bass is simply superb.Noise cancelation is at the top.I travel by local train often.I sat near the Window seat and used this headphones one day, I was totally amazed at its noise cancelation. I am unable to hear a little bit of sound of the Running Train.Dual working mode. This is simply superb, even battery is dead u can listen to music.Best battery.I charged for less than two hours and used it about a week.Cheap when compared to other brands. No brand offers Wireless headphone at this rate. Most of brand doesn't offer dual working mode too.Boat offers one year warranty for this product. Any defects BOAT collects the product from door step and repair it and return it to the door step.Only I problem with this is that it's not durable. But it's natural that if the headphones is of light weight then it won't be durable but it is better to increase the weight rather than being less durable.Since it's less durable you have to carry it with any POUCH else on Neck. If you keep in bag there are more chances that it may break.Wired mode and Bluetooth mode doesn't have same quality for all songs. Don't know whether it's song's mistake.It's very small, at the initial stage I felt pain on ears if I use it more than fiveteen minutes.Later I didn't feel such pain.I'm giving you a Honest Review.Pros.Come with both feature you can use Wireless and Aux.It is Foldable.Six Hours battery life after two hours of charging.Good Noise Cancellation.Cons.Build Quality is Not good you should buy A headphone case.It will hurt your ear but only for sometime.Without thinking just go for it, No big brand will give you this Feature in this cost.Hope You like my Review.Have A Nice Day.I thought after reading the reviews, that the product would be bad, but trust me Boat Rockerz 400 is a very nice product. I personally am using it for about six months and there is no such problems. The provided aux cable and micro usb cable are of good quality and will not disappoint you.Fiveteen hundred for a wireless headphones.bit firm on your ears while using it for a long time, as need to adjust it them after 10mins, but amazing sound quality and a very good battery back up for around five hours. Boats banging.Definitely it's a yes from me.Sound quality is good. Not comfortable on ears if you wear it continuously. It pain due it's tight grip. Outer plastic package cover was intact but inside headphone package was in damaged condition. Not good.Being wireless headphones, I was bit unsure of the output, battery longivity and the strength of the product prior purchasing it. The following review is after two months of normal every day of usage of 1 and half hours during my commute.Sound quality.Positives.The output of music is fine and decent.Syncs well with every genre quite well to give a balanced sound output.The quality of the sound is deliverd as it should even at high volume level prohibiting any kind of distortion during playback.Negatives. When connected via Bluetooth, if you are using online music apps say gaana for streaming music and you want to toggle to a chat app say watsapp or the sms interface to write a message, a slight attenuation of sound is heard when the headphone is trying to switch from music playback to capture and play the keypress sounds through them.At low volume, noise cancellation is not effective enough irrespective of the genre being played.Battery life.Positives.As I have mentioned before, I use them almost one hour and thirty minutes in a day for five days a week which turns out to be seven hours and thirty minutes as total usage once I charge them full. Although I charge them after the fifth day of use but then also the battery is not low which requires immediate attention and charge.It is great battery performance for what the company claims and for being a budget Bluetooth headphone.Even if some one who is a heavy user and find their headphone as their best companion for eight to nine hours a day, once charged full, it will keep you entertained for a good amount of time.The headphone can be used wirelessly even if it is on charge (NOT ADVISABLE).Negatives. There is no way or an indicator to check the status of remaining charge of the battery and estimate the time to go zero.I have observed the charging time takes almost two hours and some minutes. So, please make a note of it.The design is simple and is sturdy.The cushion at the over head band is ok and gives optimum comfort.The height adjustable extenders seems to be metal which makes product feel strong and promising for a good amount of time.I have read multiple reviews where they say the cushions on the driver is painful initially and persists if used for long period. As the drivers are of standard size and not too big, if not placed correctly on the ears, may create pain for few. As it is greatly adjustable, just make sure you are expanding the sides of the headphone fully and just gently keep them on the ears. Do not press them inwards with your hands much. Thus, you can get good comfort and enjoy your music.My final verdict-I am having no complaints about it's built quality, sound quality and battery performance. For a even better experience, I may upgrade to an expensive and high quality product some other time if I need to. But, I am convinced to a considerable extent with the headphones.Super Duper.Really Rocking.Superr Bass(u can feel vibrations.. when u play bass boosted songs.Super Battery.Perfect Fits.Ultra light Weight.Noise Cancellation good.You might feel tight on ears.But after tow three days.Its perfect.Mic working good.Next person thinks ur little bit away from ur phone.(not an issue).Cushions can be better.but can compromise at this price.Super Price Got it for sixe hundred ninety nine.Go for it.The perfect cheapo headphones. I take it to work, as it works adequately and are fairly durable, cost so little. Eventually the form will wear away, the plastic piece that helps hold them to size will break away, and it'll just become more and more beat up. It seems to last me a couple of years with daily use. They are perfect for more risky situations where you may have concern your equipment could get banged up or lost, or kids might get a hold of them. If they get smashed, who cares. Buy another since the price is very low. Totally worth it for situations where you don't want to take your expensive headphones.Sound quality is decent. I use them for video streaming, video games, listening to music, etc and it always seems ok to me. They drown out external noise upto an extent, so if you're in a noisy environment, it's going to be a good choice.Highly Recommend.Now its already been so many days using this boat rockerz.I purchased headphones from this company for the very 1st time and believe me, this one is really something beyond my expectations even it's better than many other brands I used in the past, as far as price is concerned.So here is my review, what I really observed.Sound quality is premium in terms of clarity and sharpness, not much distortion even at the maximum volume.Bit BASE centric, if you love higher bass then you are surely gonna love it.Noise cancellation is far better than any other in this price range, can surely pick it up for calls as well.Bluetooth range is pretty good, I roam around my entire house on the same floor, and feels its always connected.I never compromise with comfort, and in terms of comfortbility it is superb, it is as light, that no one can directly judge while looking at it once, but at the same time due to its lightness it is little fragile, so it should be taken care of.Battery is literally laudable, I really dont remember when I charged this one last time, I normally use 2-3 hours daily, and its around already a week without charging it.Aux Support, yes even if there is no charge we can use the aux cable provided.Price is low comparatively to other brands, so for me its always going to be a value for money deal.So at last the conclusion is, if you are searching for good bass along with comfort,lower price and yes if can take little care off, then you can go for this one without even a second thought.I will recommend this\")\n",
    "print(\"polarity\")\n",
    "print(testimonial.sentiment.polarity)\n",
    "sentiment=testimonial.sentiment.polarity\n",
    "if sentiment==0:\n",
    "  print(\"overall neutral\")\n",
    "elif sentiment>0:\n",
    "  print(\"overall positive\")\n",
    "else:\n",
    "  print(\"overall negative\")\n",
    "\n",
    "\n"
   ]
  },
  {
   "cell_type": "code",
   "execution_count": null,
   "metadata": {},
   "outputs": [],
   "source": []
  },
  {
   "cell_type": "code",
   "execution_count": null,
   "metadata": {},
   "outputs": [],
   "source": []
  },
  {
   "cell_type": "code",
   "execution_count": null,
   "metadata": {},
   "outputs": [],
   "source": []
  },
  {
   "cell_type": "code",
   "execution_count": null,
   "metadata": {},
   "outputs": [],
   "source": []
  }
 ],
 "metadata": {
  "kernelspec": {
   "display_name": "Python 3",
   "language": "python",
   "name": "python3"
  },
  "language_info": {
   "codemirror_mode": {
    "name": "ipython",
    "version": 3
   },
   "file_extension": ".py",
   "mimetype": "text/x-python",
   "name": "python",
   "nbconvert_exporter": "python",
   "pygments_lexer": "ipython3",
   "version": "3.8.3"
  }
 },
 "nbformat": 4,
 "nbformat_minor": 4
}
